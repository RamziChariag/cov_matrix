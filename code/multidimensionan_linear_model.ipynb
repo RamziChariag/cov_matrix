{
 "cells": [
  {
   "cell_type": "code",
   "execution_count": 1,
   "metadata": {},
   "outputs": [],
   "source": [
    "import MC_functions as mc\n",
    "import numpy as np\n",
    "import matplotlib.pyplot as plt"
   ]
  },
  {
   "cell_type": "code",
   "execution_count": 13,
   "metadata": {},
   "outputs": [],
   "source": [
    "# Simulation parameters\n",
    "number_of_variables = 1\n",
    "beta = np.array([2]) # in the multivariate case, just add elements until the size of the vector is equal to number_of_variables\n",
    "N1 = 5\n",
    "N2 = 30\n",
    "T = 6\n",
    "n = N1 * N2 * T\n",
    "mu_epsilon = 0\n",
    "sigma_epsilon = 8\n",
    "non_zero_prob = 0.1\n",
    "mu_x = 0\n",
    "sigma_x = 1\n",
    "mu_e = 0\n",
    "sigma_e = 1\n",
    "seed = 42"
   ]
  },
  {
   "cell_type": "code",
   "execution_count": 14,
   "metadata": {},
   "outputs": [],
   "source": [
    "# Generate sparce covariance matrix\n",
    "diagonal_vector, cov_matrix = mc.generate_cov_matrix(mu_epsilon, sigma_epsilon, n, non_zero_prob, seed)"
   ]
  },
  {
   "cell_type": "code",
   "execution_count": 15,
   "metadata": {},
   "outputs": [
    {
     "data": {
      "text/plain": [
       "True"
      ]
     },
     "execution_count": 15,
     "metadata": {},
     "output_type": "execute_result"
    }
   ],
   "source": [
    "# Sanity check\n",
    "mc.is_positive_semidefinite(cov_matrix)"
   ]
  },
  {
   "cell_type": "code",
   "execution_count": 17,
   "metadata": {},
   "outputs": [],
   "source": [
    "# Step 1: Generate x variables\n",
    "x = np.random.normal(mu_x, sigma_x, (n, number_of_variables))\n",
    "\n",
    "# Step 2: Generate three fixed-effect variables\n",
    "fixed_effect_1 = np.random.normal(-2, 1, (N1, 1))\n",
    "fixed_effect_2 = np.random.normal(3, 1, (N2, 1))\n",
    "fixed_effect_3 = np.random.normal(1, 1, (T, 1))\n",
    "\n",
    "# Step 3: Repeat the fixed-effect variables to match the desired dimensions\n",
    "fixed_effect_1 = np.repeat(fixed_effect_1, N2 * T, axis=0)\n",
    "fixed_effect_2 = np.tile(fixed_effect_2, (N1 * T, 1))\n",
    "fixed_effect_3 = np.tile(fixed_effect_3, (N1 * N2, 1))\n",
    "\n",
    "# Step 4: Stack the fixed-effect variables and combine x and fixed effects\n",
    "fixed_effects_matrix = np.hstack((fixed_effect_1, fixed_effect_2, fixed_effect_3))\n",
    "X = np.hstack((x, fixed_effects_matrix))\n",
    "\n",
    "# Step 5: generate disturbances\n",
    "disturbances = np.random.normal(mu_e, sigma_e, (n, 1))\n",
    "\n",
    "# Step 6: Generate y using linear relationship: y = X * beta + FE + disturbances\n",
    "y = np.dot(x, beta) + fixed_effects_matrix.sum(axis=1) + disturbances.flatten()\n",
    "\n",
    "# Step 7: Estimate beta using OLS formula\n",
    "X_with_intercept = np.hstack((np.ones((n, 1)), X))  # Adding intercept term\n",
    "X_transpose = np.transpose(X_with_intercept)\n",
    "X_transpose_X_inv = np.linalg.inv(np.dot(X_transpose, X_with_intercept))\n",
    "beta_hat = np.dot(np.dot(X_transpose_X_inv, X_transpose), y)"
   ]
  },
  {
   "cell_type": "markdown",
   "metadata": {},
   "source": [
    "In this initial version we use iid disturbances\n",
    "Alternatively, we can also use the ```generate_serially_correlated_disturbances``` function to generate serially correlated disturbances. The function takes in the following parameters: ```(mu_e, sigma_e, n, N1, N2, T dim_to_correlate, seed)```\n",
    "The function generates disturbances and introduces serial correlation based on the specified dimension ```dim_to_correlate```. The serial correlation is implemented by adding past disturbances to current disturbances, creating a correlation pattern along the chosen dimension.\n",
    "The dim_to_correlate parameter can be set to either \"N1\", \"N2\", or \"T\" to choose the dimension along which you want to introduce serial correlation."
   ]
  },
  {
   "cell_type": "markdown",
   "metadata": {},
   "source": [
    "Functions to be writtem: $\\varepsilon \\sim N(0, \\Omega)$, $\\varepsilon \\sim MT(\\Omega, 0, 5)$, a multivariate t-distribution of degree 5 and $\\varepsilon \\sim SN(0, \\Sigma, \\Lambda)$ a skewed-Normal distribution."
   ]
  },
  {
   "cell_type": "markdown",
   "metadata": {},
   "source": []
  }
 ],
 "metadata": {
  "kernelspec": {
   "display_name": "base",
   "language": "python",
   "name": "python3"
  },
  "language_info": {
   "codemirror_mode": {
    "name": "ipython",
    "version": 3
   },
   "file_extension": ".py",
   "mimetype": "text/x-python",
   "name": "python",
   "nbconvert_exporter": "python",
   "pygments_lexer": "ipython3",
   "version": "3.10.9"
  },
  "orig_nbformat": 4
 },
 "nbformat": 4,
 "nbformat_minor": 2
}
